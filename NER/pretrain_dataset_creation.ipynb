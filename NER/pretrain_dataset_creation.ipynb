{
 "cells": [
  {
   "cell_type": "code",
   "execution_count": 58,
   "id": "e1cde9be-d4e5-4d44-aac0-29d8ad4b1de1",
   "metadata": {},
   "outputs": [],
   "source": [
    "import pandas as pd\n",
    "import wikipediaapi\n",
    "import numpy as np"
   ]
  },
  {
   "cell_type": "code",
   "execution_count": 59,
   "id": "8fe6b4fa-005f-4b62-be2c-6fe3bb7d8bf9",
   "metadata": {},
   "outputs": [],
   "source": [
    "#Extracting mountains data from web_site "
   ]
  },
  {
   "cell_type": "code",
   "execution_count": 60,
   "id": "801b0084-5e94-487b-95fe-fab9a07cbe18",
   "metadata": {},
   "outputs": [],
   "source": [
    "df_mountains = pd.read_html('https://en.wikipedia.org/wiki/List_of_mountains_by_elevation')"
   ]
  },
  {
   "cell_type": "code",
   "execution_count": 61,
   "id": "9e3a3a67-814d-4403-b5f2-00168cbecc44",
   "metadata": {},
   "outputs": [],
   "source": [
    "#I think top 100 mountains is enought"
   ]
  },
  {
   "cell_type": "code",
   "execution_count": 62,
   "id": "efe81f12-a288-4352-8835-fafda48f23c7",
   "metadata": {},
   "outputs": [],
   "source": [
    "df_mountains = pd.concat([df_mountains[0], df_mountains[1]]).iloc[:100, :]['Mountain']"
   ]
  },
  {
   "cell_type": "code",
   "execution_count": 63,
   "id": "f8da875c-557f-4a20-bdfd-bf13f30b4111",
   "metadata": {},
   "outputs": [
    {
     "data": {
      "text/plain": [
       "(100,)"
      ]
     },
     "execution_count": 63,
     "metadata": {},
     "output_type": "execute_result"
    }
   ],
   "source": [
    "df_mountains.shape"
   ]
  },
  {
   "cell_type": "code",
   "execution_count": 64,
   "id": "a3e002c7-3c62-4c9e-aa63-9438e9362f0c",
   "metadata": {},
   "outputs": [],
   "source": [
    "#There is many tables with mountains sorted by category\n",
    "#We need to concat it in one table and choose top 100, we need only names"
   ]
  },
  {
   "cell_type": "code",
   "execution_count": 65,
   "id": "4001c5e5-9bad-473e-a255-04b7a0bba9cf",
   "metadata": {},
   "outputs": [
    {
     "data": {
      "text/plain": [
       "0    Mount Everest\n",
       "1               K2\n",
       "2    Kangchenjunga\n",
       "3           Lhotse\n",
       "4           Makalu\n",
       "Name: Mountain, dtype: object"
      ]
     },
     "execution_count": 65,
     "metadata": {},
     "output_type": "execute_result"
    }
   ],
   "source": [
    "df_mountains.head(5)"
   ]
  },
  {
   "cell_type": "code",
   "execution_count": 66,
   "id": "70641004-f4fa-417e-b718-ae2cfcd5a938",
   "metadata": {},
   "outputs": [],
   "source": [
    "#And now we need to find sentence for all mountains. We can do it with wikipedia-api"
   ]
  },
  {
   "cell_type": "code",
   "execution_count": 67,
   "id": "ebfeff97-3e8a-4808-9de9-9195eed45f5c",
   "metadata": {},
   "outputs": [],
   "source": [
    "def get_mountain_sentences(mountain_name, num_sentences=7):\n",
    "    wiki_wiki = wikipediaapi.Wikipedia('YourCustomUserAgent/1.0', 'en')\n",
    "    page_py = wiki_wiki.page(mountain_name)\n",
    "\n",
    "    sentences = []\n",
    "    if page_py.exists():\n",
    "        text = page_py.text\n",
    "        # sentences = [sentence.strip() for sentence in text.split('.')[:num_sentences] if mountain_name in sentence]\n",
    "        for sent in text.split('.'):\n",
    "            if mountain_name in sent and sent.strip().index(mountain_name) != 0 :\n",
    "                sentences.append(sent.strip())\n",
    "    if sentences:            \n",
    "        return ''.join(sentences[0])\n",
    "    else:\n",
    "        return np.nan"
   ]
  },
  {
   "cell_type": "code",
   "execution_count": 68,
   "id": "080747e3-41e8-47a5-8167-42ec0b6ec856",
   "metadata": {},
   "outputs": [],
   "source": [
    "# and sent.strip().index(mountain_name) != 0"
   ]
  },
  {
   "cell_type": "code",
   "execution_count": 69,
   "id": "45668adb-3931-453b-b60f-77306c037f10",
   "metadata": {},
   "outputs": [],
   "source": [
    "mount_sentences = []"
   ]
  },
  {
   "cell_type": "code",
   "execution_count": 70,
   "id": "9dbc2e38-be1b-4034-9168-6e9d54a4a6a7",
   "metadata": {},
   "outputs": [],
   "source": [
    "for mount in list(df_mountains):\n",
    "    mount_sentences.append(get_mountain_sentences(mount))"
   ]
  },
  {
   "cell_type": "code",
   "execution_count": 71,
   "id": "a9f6e687-6a49-4c9f-827f-3ce5cb9663ba",
   "metadata": {},
   "outputs": [
    {
     "data": {
      "text/plain": [
       "100"
      ]
     },
     "execution_count": 71,
     "metadata": {},
     "output_type": "execute_result"
    }
   ],
   "source": [
    "len(mount_sentences)"
   ]
  },
  {
   "cell_type": "code",
   "execution_count": 72,
   "id": "434691d7-0e53-4802-a03b-1f8e7340d2de",
   "metadata": {},
   "outputs": [],
   "source": [
    "sentences = pd.Series(mount_sentences)"
   ]
  },
  {
   "cell_type": "code",
   "execution_count": 73,
   "id": "cd87093f-d783-40a1-8fc7-0e3da920bf82",
   "metadata": {},
   "outputs": [
    {
     "data": {
      "text/plain": [
       "0     Waugh's proposed name prevailed despite the ob...\n",
       "1     \" Of the five highest mountains in the world, ...\n",
       "2     Its summit lies at 8,586 m (28,169 ft) in a se...\n",
       "3     With Everest to the north and Nuptse to the we...\n",
       "4     One of the eight-thousanders, Makalu is an iso...\n",
       "                            ...                        \n",
       "95    Kazimierza Sosnkowskiego\\n\\nTransportation\\nHM...\n",
       "96                                                  NaN\n",
       "97    There are two known approaches to Mana Peak: o...\n",
       "98                                                  NaN\n",
       "99    See also\\nList of mountains in Pakistan\\nList ...\n",
       "Length: 100, dtype: object"
      ]
     },
     "execution_count": 73,
     "metadata": {},
     "output_type": "execute_result"
    }
   ],
   "source": [
    "sentences"
   ]
  },
  {
   "cell_type": "code",
   "execution_count": 74,
   "id": "0e448331-3825-4622-a8a3-c7b0e9753756",
   "metadata": {},
   "outputs": [],
   "source": [
    "df_mountains = df_mountains.reset_index(drop=True)"
   ]
  },
  {
   "cell_type": "code",
   "execution_count": 75,
   "id": "5ea09f39-7576-4e5c-81bb-f8af7005c286",
   "metadata": {},
   "outputs": [],
   "source": [
    "#Create dataset"
   ]
  },
  {
   "cell_type": "code",
   "execution_count": 76,
   "id": "6f700e38-6aa9-4302-9913-fb5ccf44520a",
   "metadata": {},
   "outputs": [],
   "source": [
    "df_mountains = pd.concat([df_mountains, sentences.rename('Sentence')], axis=1)"
   ]
  },
  {
   "cell_type": "code",
   "execution_count": 77,
   "id": "e4d553ce-e939-4dd4-9dc5-742a1edd2bf0",
   "metadata": {},
   "outputs": [
    {
     "data": {
      "text/html": [
       "<div>\n",
       "<style scoped>\n",
       "    .dataframe tbody tr th:only-of-type {\n",
       "        vertical-align: middle;\n",
       "    }\n",
       "\n",
       "    .dataframe tbody tr th {\n",
       "        vertical-align: top;\n",
       "    }\n",
       "\n",
       "    .dataframe thead th {\n",
       "        text-align: right;\n",
       "    }\n",
       "</style>\n",
       "<table border=\"1\" class=\"dataframe\">\n",
       "  <thead>\n",
       "    <tr style=\"text-align: right;\">\n",
       "      <th></th>\n",
       "      <th>Mountain</th>\n",
       "      <th>Sentence</th>\n",
       "    </tr>\n",
       "  </thead>\n",
       "  <tbody>\n",
       "    <tr>\n",
       "      <th>0</th>\n",
       "      <td>Mount Everest</td>\n",
       "      <td>Waugh's proposed name prevailed despite the ob...</td>\n",
       "    </tr>\n",
       "    <tr>\n",
       "      <th>1</th>\n",
       "      <td>K2</td>\n",
       "      <td>\" Of the five highest mountains in the world, ...</td>\n",
       "    </tr>\n",
       "    <tr>\n",
       "      <th>2</th>\n",
       "      <td>Kangchenjunga</td>\n",
       "      <td>Its summit lies at 8,586 m (28,169 ft) in a se...</td>\n",
       "    </tr>\n",
       "    <tr>\n",
       "      <th>3</th>\n",
       "      <td>Lhotse</td>\n",
       "      <td>With Everest to the north and Nuptse to the we...</td>\n",
       "    </tr>\n",
       "    <tr>\n",
       "      <th>4</th>\n",
       "      <td>Makalu</td>\n",
       "      <td>One of the eight-thousanders, Makalu is an iso...</td>\n",
       "    </tr>\n",
       "    <tr>\n",
       "      <th>...</th>\n",
       "      <td>...</td>\n",
       "      <td>...</td>\n",
       "    </tr>\n",
       "    <tr>\n",
       "      <th>95</th>\n",
       "      <td>K6</td>\n",
       "      <td>Kazimierza Sosnkowskiego\\n\\nTransportation\\nHM...</td>\n",
       "    </tr>\n",
       "    <tr>\n",
       "      <th>96</th>\n",
       "      <td>Kangpenqing</td>\n",
       "      <td>NaN</td>\n",
       "    </tr>\n",
       "    <tr>\n",
       "      <th>97</th>\n",
       "      <td>Mana Peak</td>\n",
       "      <td>There are two known approaches to Mana Peak: o...</td>\n",
       "    </tr>\n",
       "    <tr>\n",
       "      <th>98</th>\n",
       "      <td>Muztagh Tower</td>\n",
       "      <td>NaN</td>\n",
       "    </tr>\n",
       "    <tr>\n",
       "      <th>99</th>\n",
       "      <td>Diran</td>\n",
       "      <td>See also\\nList of mountains in Pakistan\\nList ...</td>\n",
       "    </tr>\n",
       "  </tbody>\n",
       "</table>\n",
       "<p>100 rows × 2 columns</p>\n",
       "</div>"
      ],
      "text/plain": [
       "         Mountain                                           Sentence\n",
       "0   Mount Everest  Waugh's proposed name prevailed despite the ob...\n",
       "1              K2  \" Of the five highest mountains in the world, ...\n",
       "2   Kangchenjunga  Its summit lies at 8,586 m (28,169 ft) in a se...\n",
       "3          Lhotse  With Everest to the north and Nuptse to the we...\n",
       "4          Makalu  One of the eight-thousanders, Makalu is an iso...\n",
       "..            ...                                                ...\n",
       "95             K6  Kazimierza Sosnkowskiego\\n\\nTransportation\\nHM...\n",
       "96    Kangpenqing                                                NaN\n",
       "97      Mana Peak  There are two known approaches to Mana Peak: o...\n",
       "98  Muztagh Tower                                                NaN\n",
       "99          Diran  See also\\nList of mountains in Pakistan\\nList ...\n",
       "\n",
       "[100 rows x 2 columns]"
      ]
     },
     "execution_count": 77,
     "metadata": {},
     "output_type": "execute_result"
    }
   ],
   "source": [
    "df_mountains"
   ]
  },
  {
   "cell_type": "code",
   "execution_count": 78,
   "id": "00405446-f6bb-4338-919c-3e285459cdc3",
   "metadata": {},
   "outputs": [],
   "source": [
    "#Clean broken data"
   ]
  },
  {
   "cell_type": "code",
   "execution_count": 79,
   "id": "69863f8d-a4f2-4112-8262-53cd2daf0ee6",
   "metadata": {},
   "outputs": [
    {
     "data": {
      "text/plain": [
       "Mountain     0\n",
       "Sentence    23\n",
       "dtype: int64"
      ]
     },
     "execution_count": 79,
     "metadata": {},
     "output_type": "execute_result"
    }
   ],
   "source": [
    "df_mountains.isna().sum()"
   ]
  },
  {
   "cell_type": "code",
   "execution_count": 80,
   "id": "5130389d-c99e-4225-a593-3487249d2b0d",
   "metadata": {},
   "outputs": [],
   "source": [
    "df_mountains.dropna(inplace=True)"
   ]
  },
  {
   "cell_type": "code",
   "execution_count": 81,
   "id": "7abc257f-e980-4f73-9d22-41a5e3adf1b5",
   "metadata": {},
   "outputs": [
    {
     "data": {
      "text/plain": [
       "(77, 2)"
      ]
     },
     "execution_count": 81,
     "metadata": {},
     "output_type": "execute_result"
    }
   ],
   "source": [
    "df_mountains.shape"
   ]
  },
  {
   "cell_type": "code",
   "execution_count": 82,
   "id": "50d83fe5-f60c-4cb8-abcd-495774f2d84f",
   "metadata": {},
   "outputs": [],
   "source": [
    "df_mountains = df_mountains.reset_index(drop=True)\n",
    "df_mountains = df_mountains.drop(index=[57, 74, 76])"
   ]
  },
  {
   "cell_type": "code",
   "execution_count": 83,
   "id": "a85a9644-440d-4491-a196-ee8fa0fd6eb8",
   "metadata": {},
   "outputs": [],
   "source": [
    "#save to disk"
   ]
  },
  {
   "cell_type": "code",
   "execution_count": 84,
   "id": "4f296af2-ae6f-4702-9f04-1c8746994226",
   "metadata": {},
   "outputs": [],
   "source": [
    "df_mountains.to_csv('db.csv', index=False)"
   ]
  },
  {
   "cell_type": "code",
   "execution_count": null,
   "id": "31917c3b-250e-40fd-a7c3-678fb84b5287",
   "metadata": {},
   "outputs": [],
   "source": []
  }
 ],
 "metadata": {
  "kernelspec": {
   "display_name": "Python 3 (ipykernel)",
   "language": "python",
   "name": "python3"
  },
  "language_info": {
   "codemirror_mode": {
    "name": "ipython",
    "version": 3
   },
   "file_extension": ".py",
   "mimetype": "text/x-python",
   "name": "python",
   "nbconvert_exporter": "python",
   "pygments_lexer": "ipython3",
   "version": "3.10.12"
  }
 },
 "nbformat": 4,
 "nbformat_minor": 5
}
