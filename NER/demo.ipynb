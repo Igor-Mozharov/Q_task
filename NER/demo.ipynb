{
 "cells": [
  {
   "cell_type": "code",
   "execution_count": 5,
   "id": "a2339a7c-993d-4246-b435-267654378fb6",
   "metadata": {},
   "outputs": [],
   "source": [
    "import spacy\n",
    "import pandas as pd\n",
    "import random"
   ]
  },
  {
   "cell_type": "code",
   "execution_count": 6,
   "id": "626891f5-fd3f-4488-b834-819dc846931f",
   "metadata": {},
   "outputs": [],
   "source": [
    "nlp = spacy.load('./output/model-last')"
   ]
  },
  {
   "cell_type": "code",
   "execution_count": 7,
   "id": "f1623641-8eba-4939-8c38-aa081e014ce4",
   "metadata": {},
   "outputs": [],
   "source": [
    "def predict_result(sentence):\n",
    "    res = nlp(sentence)\n",
    "    for ent in res.ents:\n",
    "        print(ent.text, '|', ent.start_char, '|', ent.end_char, '|',  ent.label_)"
   ]
  },
  {
   "cell_type": "code",
   "execution_count": 8,
   "id": "7b66b038-deeb-4bb4-8e89-1e8aeb857b12",
   "metadata": {},
   "outputs": [],
   "source": [
    "#There is some results of working NER model:"
   ]
  },
  {
   "cell_type": "code",
   "execution_count": 9,
   "id": "7c88bf33-e8c0-4f9a-9c12-7e10d39eb8a3",
   "metadata": {},
   "outputs": [],
   "source": [
    "predict_result('Hello there is no mountains')  #no mountains in text.. result is True - no entity"
   ]
  },
  {
   "cell_type": "code",
   "execution_count": 10,
   "id": "c481f663-5314-4297-a83e-1e99b2ff86d8",
   "metadata": {},
   "outputs": [
    {
     "name": "stdout",
     "output_type": "stream",
     "text": [
      "Skil Brum | 0 | 9 | mount\n"
     ]
    }
   ],
   "source": [
    "predict_result('Skil Brum is ber mountain that i see in my life')"
   ]
  },
  {
   "cell_type": "code",
   "execution_count": 11,
   "id": "25645a53-e2b1-4727-88de-4b8d6bb6860f",
   "metadata": {},
   "outputs": [
    {
     "name": "stdout",
     "output_type": "stream",
     "text": [
      "Silberzacken | 19 | 31 | mount\n"
     ]
    }
   ],
   "source": [
    "predict_result('Peter wan to go to Silberzacken')"
   ]
  },
  {
   "cell_type": "code",
   "execution_count": 12,
   "id": "06caec4d-b6f2-4457-a698-894f505ee8be",
   "metadata": {},
   "outputs": [
    {
     "name": "stdout",
     "output_type": "stream",
     "text": [
      "Mount Everest | 9 | 22 | mount\n"
     ]
    }
   ],
   "source": [
    "predict_result('We be on Mount Everest, and its great')"
   ]
  },
  {
   "cell_type": "code",
   "execution_count": 13,
   "id": "3afe12b2-cae0-46e0-bcd7-29920e788232",
   "metadata": {},
   "outputs": [
    {
     "name": "stdout",
     "output_type": "stream",
     "text": [
      "Manaslu | 0 | 7 | mount\n"
     ]
    }
   ],
   "source": [
    "predict_result('Manaslu looks good')"
   ]
  },
  {
   "cell_type": "code",
   "execution_count": 14,
   "id": "12b521a5-59de-48e9-a157-7d51fd558ca9",
   "metadata": {},
   "outputs": [
    {
     "name": "stdout",
     "output_type": "stream",
     "text": [
      "K2 | 27 | 29 | mount\n"
     ]
    }
   ],
   "source": [
    "predict_result('After the party Alex go to K2 mountain, and never come back. It was terrible')"
   ]
  },
  {
   "cell_type": "code",
   "execution_count": 15,
   "id": "b0642608-27a5-4c01-b6b0-9ca9b19c7c63",
   "metadata": {},
   "outputs": [
    {
     "name": "stdout",
     "output_type": "stream",
     "text": [
      "Nanda Devi | 4 | 14 | mount\n",
      "Kanjut Sar | 16 | 26 | mount\n"
     ]
    }
   ],
   "source": [
    "predict_result('K2, Nanda Devi, Kanjut Sar - mountain')"
   ]
  },
  {
   "cell_type": "code",
   "execution_count": 16,
   "id": "01d99086-5d94-473f-b0c8-dfb1d2f4575a",
   "metadata": {},
   "outputs": [],
   "source": [
    "#And if you want to test it many time: try it: Start it and test, and print \"exit\" to exit."
   ]
  },
  {
   "cell_type": "code",
   "execution_count": 17,
   "id": "35fedb3a-f927-4833-8a2f-6f6fd1c022be",
   "metadata": {},
   "outputs": [
    {
     "name": "stdin",
     "output_type": "stream",
     "text": [
      "Enter your text! ----> exit\n"
     ]
    }
   ],
   "source": [
    "while True:\n",
    "    user_input = input('Enter your text! ---->')\n",
    "    if user_input:\n",
    "        predict = nlp(user_input)\n",
    "        for ent in predict.ents:\n",
    "            print(ent.text, '|', ent.start_char, '|', ent.end_char, '|',  ent.label_)\n",
    "    if user_input == 'exit':\n",
    "        break"
   ]
  },
  {
   "cell_type": "code",
   "execution_count": null,
   "id": "a47314af-3ba6-4ad3-9278-dbc811e1b8d9",
   "metadata": {},
   "outputs": [],
   "source": []
  }
 ],
 "metadata": {
  "kernelspec": {
   "display_name": "Python 3 (ipykernel)",
   "language": "python",
   "name": "python3"
  },
  "language_info": {
   "codemirror_mode": {
    "name": "ipython",
    "version": 3
   },
   "file_extension": ".py",
   "mimetype": "text/x-python",
   "name": "python",
   "nbconvert_exporter": "python",
   "pygments_lexer": "ipython3",
   "version": "3.10.12"
  }
 },
 "nbformat": 4,
 "nbformat_minor": 5
}
